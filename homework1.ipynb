{
 "cells": [
  {
   "cell_type": "code",
   "execution_count": null,
   "id": "c47c69bd",
   "metadata": {},
   "outputs": [],
   "source": [
    "1.\n",
    "a=\"Hello Python\"\n",
    "print(a[6:12] + \" \" + a[0:6])"
   ]
  },
  {
   "cell_type": "code",
   "execution_count": null,
   "id": "d69633ec",
   "metadata": {},
   "outputs": [],
   "source": [
    "2.\n",
    "b=\"Hello Python World\"\n",
    "print(b[13:18] + \" \" + b[6:12] + \" \" + b[0:5])"
   ]
  },
  {
   "cell_type": "code",
   "execution_count": null,
   "id": "cf24517b",
   "metadata": {},
   "outputs": [],
   "source": [
    "3.\n",
    "c=\"Hello\"\n",
    "print(c[4::-1])"
   ]
  },
  {
   "cell_type": "code",
   "execution_count": null,
   "id": "68a8ef5e",
   "metadata": {},
   "outputs": [],
   "source": [
    "4-1\n",
    "s=\"python\"\n",
    "print(s[0], s[0][0], s[0][0][0])"
   ]
  },
  {
   "cell_type": "markdown",
   "id": "d1e4d0e1",
   "metadata": {},
   "source": [
    "s[0]은 s배열 0번째 원소 = p   \n",
    "s[0][0]은 이중리스트 s배열 0번째 원소의 0번째 원소 = p   \n",
    "s[0][0][0]은 삼중리스트 s배열 0번째 원소의 0번째 원소의 0번째 원소 = p  "
   ]
  },
  {
   "cell_type": "code",
   "execution_count": null,
   "id": "99705f16",
   "metadata": {},
   "outputs": [],
   "source": [
    "4-2\n",
    "s=\"python\"\n",
    "print(s[-100], s[100])"
   ]
  },
  {
   "cell_type": "markdown",
   "id": "45698615",
   "metadata": {},
   "source": [
    "크기가 5인 문자열 s에서 100번째 요소와 뒤에서 100번째 요소는 존재하지 않으므로  \n",
    "오류가 발생합니다."
   ]
  },
  {
   "cell_type": "code",
   "execution_count": null,
   "id": "58167e2e",
   "metadata": {
    "scrolled": true
   },
   "outputs": [],
   "source": [
    "4-3\n",
    "s=\"python\"\n",
    "print(s[-100, 100])"
   ]
  },
  {
   "cell_type": "markdown",
   "id": "f44830f4",
   "metadata": {},
   "source": [
    "문자열의 인덱스를 정수가 아닌 문자로 줘서 오류가 발생"
   ]
  },
  {
   "cell_type": "code",
   "execution_count": null,
   "id": "41c93a81",
   "metadata": {},
   "outputs": [],
   "source": [
    "4-4\n",
    "s=\"python\"\n",
    "print(s[1:-1])"
   ]
  },
  {
   "cell_type": "markdown",
   "id": "99392baa",
   "metadata": {},
   "source": [
    "문자열의 1번째 원소 'y'에서 -1번째(뒤에서 1번째) 원소 n까지의 슬라이싱이므로  \n",
    "n은 포함하지않고 'o'까지 출력."
   ]
  },
  {
   "cell_type": "code",
   "execution_count": null,
   "id": "f80c6378",
   "metadata": {},
   "outputs": [],
   "source": [
    "4-5\n",
    "s=\"python\"\n",
    "print(s[3:-3])"
   ]
  },
  {
   "cell_type": "markdown",
   "id": "29b51226",
   "metadata": {},
   "source": [
    "문자열의 3번째 원소 'h'에서 -3번째(뒤에서 3번째)원소 'h'까지의 슬라이싱이므로  \n",
    "h은 포함하지않고 'null'출력"
   ]
  },
  {
   "cell_type": "code",
   "execution_count": null,
   "id": "a73954f4",
   "metadata": {},
   "outputs": [],
   "source": [
    "5.\n",
    "for i in range(1, 101):\n",
    "    if i % 2 == 1:\n",
    "        print(i)"
   ]
  },
  {
   "cell_type": "markdown",
   "id": "5ca76229",
   "metadata": {},
   "source": [
    "i의 범위를 1~100까지 설정 후 2로 나눈 나머지가 1인 홀수 i 출력"
   ]
  },
  {
   "cell_type": "code",
   "execution_count": null,
   "id": "9a10ad87",
   "metadata": {},
   "outputs": [],
   "source": [
    "6.\n",
    "i=2\n",
    "sum=0\n",
    "while i <=100:\n",
    "    if i % 2 ==0:\n",
    "        sum = sum+i\n",
    "    else:\n",
    "        pass\n",
    "    i=i+2\n",
    "\n",
    "print(sum)"
   ]
  },
  {
   "cell_type": "markdown",
   "id": "c7c1cbde",
   "metadata": {},
   "source": [
    "i는 짝수이므로 2로, 전체 합은 0으로 초기화  \n",
    "i는 100이하의 범위내에서 2로 나눈 나머지가 0  \n",
    "계속 더해주고 i는 짝수이므로 2씩 증가시켜준다."
   ]
  },
  {
   "cell_type": "code",
   "execution_count": null,
   "id": "abf84197",
   "metadata": {},
   "outputs": [],
   "source": [
    "7.\n",
    "a = int(input('정수를 입력하세요: '))\n",
    "print(int(str(a)[::-1]))"
   ]
  },
  {
   "cell_type": "markdown",
   "id": "1a88f479",
   "metadata": {},
   "source": [
    "숫자를 문자열인 배열로 변경하고 거꾸로만든 다음 다시 int형으로 변환해서 출력"
   ]
  },
  {
   "cell_type": "code",
   "execution_count": 8,
   "id": "141adefa",
   "metadata": {},
   "outputs": [
    {
     "name": "stdout",
     "output_type": "stream",
     "text": [
      "정수를 입력하세요: 20\n",
      "2\n",
      "3\n",
      "5\n",
      "7\n",
      "11\n",
      "13\n",
      "17\n",
      "19\n"
     ]
    }
   ],
   "source": [
    "8.\n",
    "a = int(input('정수를 입력하세요: '))\n",
    "\n",
    "for i in range(2, a+1):\n",
    "    for j in range(2, i+1):\n",
    "        if ( j == i ):\n",
    "            print(i)\n",
    "        elif(i % j ==0):\n",
    "            break"
   ]
  },
  {
   "cell_type": "markdown",
   "id": "a0a3416b",
   "metadata": {},
   "source": [
    "j가 i와 같다면 i를 출력하고  \n",
    "i를 j로 나누었을 때 나머지가 0이면 break한다."
   ]
  },
  {
   "cell_type": "code",
   "execution_count": 14,
   "id": "1afd2920",
   "metadata": {},
   "outputs": [
    {
     "name": "stdout",
     "output_type": "stream",
     "text": [
      "문자열을 입력하세요: BANANA\n",
      "승자는 Stuart 점수: 12\n"
     ]
    }
   ],
   "source": [
    "9. \n",
    "s = str(input('문자열을 입력하세요: '))\n",
    "\n",
    "Kscore = 0\n",
    "Sscore = 0\n",
    "\n",
    "for i in range(len(s)):\n",
    "    if s[i] in 'AEIOU':\n",
    "        Kscore += (len(s)-i)\n",
    "    if s[i] not in 'AEIOU':\n",
    "        Sscore += (len(s)-i)\n",
    "\n",
    "if Kscore > Sscore:\n",
    "    print('승자는 Kevin 점수:', Kscore)\n",
    "elif Sscore > Kscore:\n",
    "    print('승자는 Stuart 점수:', Sscore)\n",
    "\n"
   ]
  },
  {
   "cell_type": "markdown",
   "id": "0da5b1c9",
   "metadata": {},
   "source": [
    "Kevin의 점수를 Kscore, Stuart의 점수를 Sscore  \n",
    "자음이든 모음이든 문자열 배열s의 i번째에 위치하면  \n",
    "(배열 s 길이의 - i)만큼 단어가 만들어지므로 for문으로 반복한다.  \n",
    "예를들어 BANANA로 자음 시작 단어를 만들어보면  \n",
    "B는 0번째, (B, BA, BAN, BANA, BANAN, BANANA) 총 6(6 - 0)  \n",
    "N은 2번째, (N, NA, NAN, NANA) 총 4(6-2)  \n",
    "4번째에 존재하는 N(N, NA) 총 2(6-4)\n",
    "위와 같은 방식으로 모음도 똑같은 결과가 나온다."
   ]
  },
  {
   "cell_type": "code",
   "execution_count": 60,
   "id": "744c5b34",
   "metadata": {},
   "outputs": [
    {
     "name": "stdout",
     "output_type": "stream",
     "text": [
      "Yes\n",
      "Yes\n",
      "No\n"
     ]
    }
   ],
   "source": [
    "10.\n",
    "def appendDelete(s, t, k):\n",
    "    cor = 0\n",
    "    ans = 0\n",
    "    for i in range(len(s)):\n",
    "        for j in range(len(t)):\n",
    "            if s[i] == t[j]:\n",
    "                cor += 1\n",
    "                ans = len(s) + len(t) - 2*cor\n",
    "            \n",
    "    if  ans <= k:\n",
    "       print('Yes')\n",
    "    elif ans > k:\n",
    "       print('No')\n",
    "\n",
    "appendDelete('hackerhappy', 'hackerrank', 9)\n",
    "appendDelete('aba', 'aba', 7)\n",
    "appendDelete('ashley', 'ash', 2)                \n"
   ]
  },
  {
   "cell_type": "markdown",
   "id": "b587e291",
   "metadata": {},
   "source": [
    "두 문자열을 비교햇을 때, 중복 포함 다른부분(ans)이 k값을 넘어선다면(ans>k)  \n",
    "'No'이고 k값과 같거나 작다면(ans<=k) 'Yes'이다.  \n",
    "ans의 값은 두 문자열의 길이를 합친 후(len(s) + len(t))  \n",
    "겹치는 부분(2cor)을 뺀 값이다.  \n",
    "따라서 이 값이 k보다 작거나 같으면 yes  \n",
    "크다면 s를 t로 바꿀 수 없기때문에 no가 나온다."
   ]
  },
  {
   "cell_type": "markdown",
   "id": "4bf9f310",
   "metadata": {},
   "source": [
    "아직까지는 강의를 들으면서 이해가 잘 안가거나 크게 어려운 부분은 없지만,  \n",
    "막상 숙제를 해보니 아직 jupyter notebook이 익숙하지 않고    \n",
    "평소 이론과 더불어 코딩을 직접 해보는 실습의 중요성을 깨달았습니다."
   ]
  },
  {
   "cell_type": "code",
   "execution_count": null,
   "id": "1f1c3fe3",
   "metadata": {},
   "outputs": [],
   "source": []
  }
 ],
 "metadata": {
  "kernelspec": {
   "display_name": "Python 3",
   "language": "python",
   "name": "python3"
  },
  "language_info": {
   "codemirror_mode": {
    "name": "ipython",
    "version": 3
   },
   "file_extension": ".py",
   "mimetype": "text/x-python",
   "name": "python",
   "nbconvert_exporter": "python",
   "pygments_lexer": "ipython3",
   "version": "3.8.8"
  }
 },
 "nbformat": 4,
 "nbformat_minor": 5
}
