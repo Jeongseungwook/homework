{
 "cells": [
  {
   "cell_type": "markdown",
   "id": "a4c66a85",
   "metadata": {},
   "source": [
    "Homework4 2017136113 정승욱"
   ]
  },
  {
   "cell_type": "markdown",
   "id": "cce1ba1c",
   "metadata": {},
   "source": [
    "1-1)"
   ]
  },
  {
   "cell_type": "code",
   "execution_count": 1,
   "id": "1c0c786c",
   "metadata": {},
   "outputs": [
    {
     "name": "stdout",
     "output_type": "stream",
     "text": [
      "pig ham\n",
      "cat dog\n",
      "ham bird\n",
      "dog pig\n"
     ]
    }
   ],
   "source": [
    "import os\n",
    "\n",
    "with open('s.txt', 'r') as f:\n",
    "    lst = f.readlines()\n",
    "    for thing in lst:\n",
    "        print(thing, end=\"\")"
   ]
  },
  {
   "cell_type": "markdown",
   "id": "61790237",
   "metadata": {},
   "source": [
    "with open as f:를 사용하면 파일을 닫지 않아도됨.  \n",
    "readlines() 메소드를 이용해 한줄씩 읽어온다. print 자체에 개행문자가 있기 때문에  \n",
    "end=\"\" 사용해서 한줄씩 출력하도록함"
   ]
  },
  {
   "cell_type": "markdown",
   "id": "531c0387",
   "metadata": {},
   "source": [
    "1-2)"
   ]
  },
  {
   "cell_type": "code",
   "execution_count": 2,
   "id": "ced93ad9",
   "metadata": {},
   "outputs": [
    {
     "name": "stdout",
     "output_type": "stream",
     "text": [
      "cat dog\n",
      "dog pig\n",
      "ham bird\n",
      "pig ham\n"
     ]
    }
   ],
   "source": [
    "import os\n",
    "\n",
    "lst = []\n",
    "with open('s.txt', 'r') as f:\n",
    "    cont = f.readlines()\n",
    "    for thing in cont:\n",
    "        lst.append(thing)\n",
    "\n",
    "lst.sort()\n",
    "\n",
    "with open('s1.txt', 'w') as f:\n",
    "    f.writelines(lst)\n",
    "\n",
    "with open('s1.txt', 'r') as f:\n",
    "    cont2 = f.readlines()\n",
    "    for thing in cont2:\n",
    "        print(thing, end=\"\")"
   ]
  },
  {
   "cell_type": "markdown",
   "id": "b7741466",
   "metadata": {},
   "source": [
    "리스트를 만든 후 s.txt에 있는 내용들을 담고, sort()를 통해 정렬 후 'w' 쓰기모드로  \n",
    "바꾸고 리스트에 있는 내용들을 줄단위로 s1.txt에 입력한다.  \n",
    "마찬가지로 읽을 때는 end=\"\" 해줘야함."
   ]
  },
  {
   "cell_type": "markdown",
   "id": "baf1a8f9",
   "metadata": {},
   "source": [
    "1-3)"
   ]
  },
  {
   "cell_type": "code",
   "execution_count": 3,
   "id": "c22793bc",
   "metadata": {
    "scrolled": true
   },
   "outputs": [
    {
     "name": "stdout",
     "output_type": "stream",
     "text": [
      "ham bird\n",
      "cat dog\n",
      "pig ham\n",
      "dog pig\n"
     ]
    }
   ],
   "source": [
    "import os\n",
    "\n",
    "lst = []\n",
    "with open('s.txt', 'r') as f:\n",
    "    for line in f:\n",
    "        first_word = line.split()[0]\n",
    "        second_word = line.split()[1]\n",
    "        lst.append((second_word, first_word))\n",
    "    lst.sort()\n",
    "    s = \"\"\n",
    "    for i in lst:\n",
    "        s += \"%s %s\\n\" % (i[1], i[0])\n",
    "with open('s2.txt', 'w') as f: \n",
    "    f.writelines(s)\n",
    "    \n",
    "with open('s2.txt', 'r') as f:\n",
    "    cont2 = f.readlines()\n",
    "    for thing in cont2:\n",
    "        print(thing, end=\"\")"
   ]
  },
  {
   "cell_type": "markdown",
   "id": "a9e68851",
   "metadata": {},
   "source": [
    "리스트를 만든 후 단어들을 튜플형태로 리스트에 저장 후  \n",
    "두번째 단어들을 기준으로 정렬한 후에 문자열로 바꿔주고 저장해줌."
   ]
  },
  {
   "cell_type": "markdown",
   "id": "16def6cd",
   "metadata": {},
   "source": [
    "1-4_"
   ]
  },
  {
   "cell_type": "code",
   "execution_count": 4,
   "id": "4ea9d112",
   "metadata": {},
   "outputs": [
    {
     "name": "stdout",
     "output_type": "stream",
     "text": [
      "pig ham cat \n",
      "dog ham bird \n",
      "dog pig "
     ]
    }
   ],
   "source": [
    "import os\n",
    "\n",
    "lst = []\n",
    "with open('s.txt', 'r') as f:\n",
    "    lst = []\n",
    "    for line in f:\n",
    "        for i in line.split(): \n",
    "            lst.append(i)\n",
    "    s = \"\"\n",
    "    for i in range(len(lst)):\n",
    "        if i and i % 3 == 0: \n",
    "            s += '\\n'\n",
    "        s += \"%s \" % lst[i]\n",
    "with open('s3.txt', 'w') as f: \n",
    "    f.writelines(s)\n",
    "with open('s3.txt', 'r') as f:\n",
    "    cont2 = f.readlines()\n",
    "    for thing in cont2:\n",
    "        print(thing, end=\"\")"
   ]
  },
  {
   "cell_type": "markdown",
   "id": "2a74332e",
   "metadata": {},
   "source": [
    "단어들을 리스트 저장 후 인덱스가 3으로 나누어 떨어지는 경우  \n",
    "줄바꿈 문자를 추가하고 s3.txt에 저장"
   ]
  },
  {
   "cell_type": "markdown",
   "id": "f70729e0",
   "metadata": {},
   "source": [
    "2."
   ]
  },
  {
   "cell_type": "code",
   "execution_count": 4,
   "id": "2e20c9d0",
   "metadata": {},
   "outputs": [
    {
     "name": "stdout",
     "output_type": "stream",
     "text": [
      "Welcome to Our Service\n",
      "\n",
      "  1. Sign Up\n",
      "  2. Sign In\n",
      "  3. Quit\n",
      "1\n",
      "아이디를 입력하세요 : jsw960208\n",
      "비밀번호를 입력하세요 : tmddnr123\n",
      "이름을 입력하세요 : 정승욱\n",
      "학교명을 입력하세요 : 한국기술교육대학교\n",
      "\n",
      "--------------------------------------------------\n",
      "Welcome to Our Service\n",
      "\n",
      "  1. Sign Up\n",
      "  2. Sign In\n",
      "  3. Quit\n",
      "2\n",
      "아이디를 입력하세요 : jsw960208\n",
      "비밀번호를 입력하세요 : tmddnr123\n",
      "Hello 정승욱!\n",
      "\n",
      "--------------------------------------------------\n",
      "Welcome to Our Service\n",
      "\n",
      "  1. Sign Up\n",
      "  2. Sign In\n",
      "  3. Quit\n",
      "3\n"
     ]
    }
   ],
   "source": [
    "import hashlib\n",
    "import os\n",
    "\n",
    "def getMenu():\n",
    "    return int(input(\"\"\"Welcome to Our Service\n",
    "\n",
    "  1. Sign Up\n",
    "  2. Sign In\n",
    "  3. Quit\n",
    "\"\"\"))\n",
    "\n",
    "def getUID(s, idType):\n",
    "    if idType == 0: return s.split(':')[0]\n",
    "    else: return s.split(':')[1].split(',')[idType - 1].strip()\n",
    "\n",
    "def encryptPW(s): \n",
    "    return hashlib.sha1(s.encode()).hexdigest()\n",
    "\n",
    "mMenu = getMenu()\n",
    "while(1): \n",
    "    if mMenu == 3: break \n",
    "    elif mMenu == 1:\n",
    "        userID = input(\"아이디를 입력하세요 : \")\n",
    "        userPW = input(\"비밀번호를 입력하세요 : \")\n",
    "        userName = input(\"이름을 입력하세요 : \")\n",
    "        userSchool = input(\"학교명을 입력하세요 : \")\n",
    "        duplicated = False \n",
    "        if os.path.exists(\"access.txt\"):\n",
    "            with open(\"access.txt\", \"r\") as f:\n",
    "                for line in f: #한 줄씩 읽으며\n",
    "                    if userID == getUID(line, 0): \n",
    "                        print(\"Sorry, the entered ID is already used.\")\n",
    "                        duplicated = True \n",
    "                        break\n",
    "            if duplicated: continue\n",
    "        encrypted_userPW = encryptPW(userPW) \n",
    "        with open(\"access.txt\", \"a\") as f: \n",
    "            f.write(\"%s: %s, %s, %s\\n\" % (userID, encrypted_userPW, userName, userSchool))\n",
    "        print('\\n' + '-' * 50)\n",
    "    elif mMenu == 2:\n",
    "        userID = input(\"아이디를 입력하세요 : \")\n",
    "        userPW = input(\"비밀번호를 입력하세요 : \")\n",
    "        if os.path.exists(\"access.txt\"): \n",
    "            encrypted_userPW = encryptPW(userPW) \n",
    "            isFound = False \n",
    "            with open(\"access.txt\", \"r\") as f: \n",
    "                for line in f: #한 줄씩 읽으며\n",
    "                    if userID == getUID(line, 0) and encrypted_userPW == getUID(line, 1):\n",
    "                        print(\"Hello %s!\" % getUID(line, 2)) \n",
    "                        isFound = True #존재 확인\n",
    "                        break #반복문 탈출\n",
    "                    elif userID == getUID(line, 0) and encrypted_userPW != getUID(line, 1): \n",
    "                        while encrypted_userPW != getUID(line, 1): \n",
    "                            print(\"Sorry, the entered password is not correct.\")\n",
    "                            encrypted_userPW = encryptPW(input(\"비밀번호를 입력하세요 : \")) \n",
    "                        print(\"Hello %s!\" % getUID(line, 2)) \n",
    "                        isFound = True \n",
    "                        break \n",
    "                if not isFound: print(\"Sorry, you are not a registered member.\") \n",
    "        print('\\n' + '-' * 50)\n",
    "    mMenu = getMenu()"
   ]
  },
  {
   "cell_type": "markdown",
   "id": "6650c6f6",
   "metadata": {},
   "source": [
    "처음에 선택하는 함수를 만들고 0,1,2 중 원하는 값을 받아오게한다.  \n",
    "sha의 해싱기법을 이용하고 그다음 메뉴를 받아오는 함수를 만든다.  \n",
    "while문을 만들어 무한반복하게 만든 후 3번이면 프로그램을 종료한다.  \n",
    "여기서 아이디 중복을 체크해줘야한다.  \n",
    "2번메뉴의 경우도 입력한 비밀번호를 암호화하고 아이디 존재여부를 체크해줘야한다.  \n",
    "만약 아이디를 발견하지못하면 반복해서 메뉴를 받아오도록한다.  \n",
    "\n"
   ]
  },
  {
   "cell_type": "markdown",
   "id": "2865c242",
   "metadata": {},
   "source": [
    "3."
   ]
  },
  {
   "cell_type": "code",
   "execution_count": 6,
   "id": "a30089cd",
   "metadata": {},
   "outputs": [
    {
     "name": "stdout",
     "output_type": "stream",
     "text": [
      "[0.0, 0.1, 0.2, 0.30000000000000004, 0.4]\n",
      "[1.0, 1.1, 1.2, 1.3, 1.4, 1.5, 1.6, 1.7000000000000002, 1.8, 1.9]\n",
      "[2.2, 2.7, 3.2, 3.7]\n"
     ]
    }
   ],
   "source": [
    "def frange(start, stop=None, step=0.1):\n",
    "    if stop == None:\n",
    "        stop = start\n",
    "        start = 0.0\n",
    "    \n",
    "    n = int((stop - start) // step)\n",
    "    lst = []\n",
    "    for i in range(0, int(n)+1):\n",
    "        lst.append((start)+i*step)\n",
    "    \n",
    "    return lst\n",
    "\n",
    "print(frange(0.5))\n",
    "print(frange(1.0, 2.0))\n",
    "print(frange(2.2, 4.0, 0.5))"
   ]
  },
  {
   "cell_type": "markdown",
   "id": "2024f651",
   "metadata": {},
   "source": [
    "stop은 None으로 주고, 실행된 함수의 인자가 하나인 경우, 그 값은 stop의 것이므로  \n",
    "그 값을(start) stop으로 주고 start는 기본값을 0.0으로 주면된다.  \n",
    "그리고 끝 값(stop) 과 시작 값(start) 사이의 간격을 step(기본 0.1)로 나누어  \n",
    "출력되는 개수(n)을 구하고 시작값부터 step값을 간격으로 더해간다.  \n",
    "부동소수점 오차가 발생하는데 이를 깔끔하게 해결하지 못하였다."
   ]
  },
  {
   "cell_type": "markdown",
   "id": "1a6f7afb",
   "metadata": {},
   "source": [
    "4."
   ]
  },
  {
   "cell_type": "code",
   "execution_count": 7,
   "id": "d9e68e07",
   "metadata": {},
   "outputs": [
    {
     "name": "stdout",
     "output_type": "stream",
     "text": [
      "0\n",
      "3\n",
      "15\n",
      "5\n"
     ]
    }
   ],
   "source": [
    "def sum(*args):\n",
    "    sum2 = 0\n",
    "    for i in args:\n",
    "        sum2 += i\n",
    "\n",
    "    return sum2\n",
    "\n",
    "print(sum())\n",
    "print(sum(1,2))\n",
    "print(sum(1,2,3,4,5))\n",
    "print(sum(1,5,7,2,-10))"
   ]
  },
  {
   "cell_type": "markdown",
   "id": "7f7688f6",
   "metadata": {},
   "source": [
    "가변인수(args)에 있는 수들을 for문을 통해 합을 구한 후  \n",
    "sum2에 넣고 반환해주면 된다."
   ]
  },
  {
   "cell_type": "markdown",
   "id": "4401c97a",
   "metadata": {},
   "source": [
    "5."
   ]
  },
  {
   "cell_type": "code",
   "execution_count": 82,
   "id": "1d8f6ae8",
   "metadata": {},
   "outputs": [
    {
     "name": "stdout",
     "output_type": "stream",
     "text": [
      "ASAP\n"
     ]
    }
   ],
   "source": [
    "def toupper(text):\n",
    "    return text[0].upper()\n",
    "def myinitial(s):\n",
    "    return \"\".join(map(toupper, s.split()))\n",
    "print(myinitial(\"as soon as possible\"))"
   ]
  },
  {
   "cell_type": "markdown",
   "id": "4844dc0e",
   "metadata": {},
   "source": [
    "map(X, V) X는 함수이고 Y는 인자라고 보면된다.  \n",
    "공백을 기준으로 분리된 Y(s.split())을 toupper 라는 함수(가장처음문자를  \n",
    "대문자로 바꾸고 반환해주는)를 통해 바꾸고 join함수로 이어붙인 다음 출력한다."
   ]
  },
  {
   "cell_type": "markdown",
   "id": "b8ace363",
   "metadata": {},
   "source": [
    "6."
   ]
  },
  {
   "cell_type": "code",
   "execution_count": 83,
   "id": "6bf6a379",
   "metadata": {},
   "outputs": [
    {
     "name": "stdout",
     "output_type": "stream",
     "text": [
      "402387260077093773543702433923003985719374864210714632543799910429938512398629020592044208486969404800479988610197196058631666872994808558901323829669944590997424504087073759918823627727188732519779505950995276120874975462497043601418278094646496291056393887437886487337119181045825783647849977012476632889835955735432513185323958463075557409114262417474349347553428646576611667797396668820291207379143853719588249808126867838374559731746136085379534524221586593201928090878297308431392844403281231558611036976801357304216168747609675871348312025478589320767169132448426236131412508780208000261683151027341827977704784635868170164365024153691398281264810213092761244896359928705114964975419909342221566832572080821333186116811553615836546984046708975602900950537616475847728421889679646244945160765353408198901385442487984959953319101723355556602139450399736280750137837615307127761926849034352625200015888535147331611702103968175921510907788019393178114194545257223865541461062892187960223838971476088506276862967146674697562911234082439208160153780889893964518263243671616762179168909779911903754031274622289988005195444414282012187361745992642956581746628302955570299024324153181617210465832036786906117260158783520751516284225540265170483304226143974286933061690897968482590125458327168226458066526769958652682272807075781391858178889652208164348344825993266043367660176999612831860788386150279465955131156552036093988180612138558600301435694527224206344631797460594682573103790084024432438465657245014402821885252470935190620929023136493273497565513958720559654228749774011413346962715422845862377387538230483865688976461927383814900140767310446640259899490222221765904339901886018566526485061799702356193897017860040811889729918311021171229845901641921068884387121855646124960798722908519296819372388642614839657382291123125024186649353143970137428531926649875337218940694281434118520158014123344828015051399694290153483077644569099073152433278288269864602789864321139083506217095002597389863554277196742822248757586765752344220207573630569498825087968928162753848863396909959826280956121450994871701244516461260379029309120889086942028510640182154399457156805941872748998094254742173582401063677404595741785160829230135358081840096996372524230560855903700624271243416909004153690105933983835777939410970027753472000000000000000000000000000000000000000000000000000000000000000000000000000000000000000000000000000000000000000000000000000000000000000000000000000000000000000000000000000000000000000000000000000000000000000000000000000000000000000000000000000000\n"
     ]
    }
   ],
   "source": [
    "def myfact(n):\n",
    "    if n <= 1: return 1\n",
    "    return n * myfact(n-1)\n",
    "print(myfact(999)) "
   ]
  },
  {
   "cell_type": "markdown",
   "id": "1d3a1320",
   "metadata": {},
   "source": [
    "1이하면 1을 반환해주고, 아니라면 1이하가 될때까지 재귀호출을 하는  \n",
    "n* myfact(n-1)식을 반환해주는 myfact함수를 만들어주면된다."
   ]
  },
  {
   "cell_type": "markdown",
   "id": "13d03432",
   "metadata": {},
   "source": [
    "7."
   ]
  },
  {
   "cell_type": "code",
   "execution_count": 10,
   "id": "2cf03ce2",
   "metadata": {},
   "outputs": [
    {
     "ename": "SyntaxError",
     "evalue": "invalid syntax (<ipython-input-10-22ba2f8d9e31>, line 12)",
     "output_type": "error",
     "traceback": [
      "\u001b[1;36m  File \u001b[1;32m\"<ipython-input-10-22ba2f8d9e31>\"\u001b[1;36m, line \u001b[1;32m12\u001b[0m\n\u001b[1;33m    def s.HTML(url):\u001b[0m\n\u001b[1;37m         ^\u001b[0m\n\u001b[1;31mSyntaxError\u001b[0m\u001b[1;31m:\u001b[0m invalid syntax\n"
     ]
    }
   ],
   "source": [
    "import re\n",
    "\n",
    "import requests\n",
    "import math\n",
    "import string\n",
    "import pickle\n",
    "import html\n",
    "\n",
    "s.words = []\n",
    "with open(\"s.words.txt\", \"r\", encoding='utf-8') as f:\n",
    "    for line in f: s.words.append(line.strip())\n",
    "def s.HTML(url):\n",
    "    with open(\"%s.html\" % url.split('//')[1].replace('/', '_'), \"w\", encoding='utf-8') as f:\n",
    "        f.write(requests.get(url).text)\n",
    "def k.word(urls):\n",
    "    for u in urls:\n",
    "        with open('%s.words.frequency' % u.split('//')[1].replace('/', '_'), \"rb\") as f:\n",
    "            keywords = list(pickle.load(f).items()) \n",
    "            keywords.sort(key=lambda k: k[1], reverse=True) \n",
    "            print(\"%s 빈도수높은 단어 3개 :\" % u)\n",
    "            for i in range(3):\n",
    "                print(\"(%s, %d번)\" % (keywords[i][0], keywords[i][1]), end=', ') #단어 3개 출력\n",
    "            print()\n",
    "def distance(d):\n",
    "    return pow(math.e, -d)"
   ]
  },
  {
   "cell_type": "markdown",
   "id": "bbd1da45",
   "metadata": {},
   "source": [
    "불용어르 리스트에 추가해서 html에 저장한다.  \n",
    "이후 내림차순으로 정렬해주고 단어3개를 출력한다.  \n",
    "이후는 구현하지못했습니다."
   ]
  },
  {
   "cell_type": "markdown",
   "id": "0748b182",
   "metadata": {},
   "source": [
    "개선되어야 할 부분 : 유사어나 문자열 비교 알고리즘을 추가하면 괜찮은 검색엔진이 될 거 같습니다."
   ]
  },
  {
   "cell_type": "markdown",
   "id": "83870aeb",
   "metadata": {},
   "source": [
    "과제수행느낀점 :  \n",
    "    \n",
    "    이때까지 했던 과제들에서 가장 어려웠던거 같습니다. 과제를 수행할 시간은 있었다지만  \n",
    "    어떤부분에서 어떤 모듈이나 메소드를 사용해야할지 감이 잘 안잡힌 부분이 많아서  \n",
    "    과제4를 수행하는데 많은 어려움이 있었습니다. 실력이 아직 많이부족하고  \n",
    "    다음 과제를 진행하는데 있어서 많은 공부가 필요하다는 것을 재차 느낄 수 있었습니다."
   ]
  }
 ],
 "metadata": {
  "kernelspec": {
   "display_name": "Python 3",
   "language": "python",
   "name": "python3"
  },
  "language_info": {
   "codemirror_mode": {
    "name": "ipython",
    "version": 3
   },
   "file_extension": ".py",
   "mimetype": "text/x-python",
   "name": "python",
   "nbconvert_exporter": "python",
   "pygments_lexer": "ipython3",
   "version": "3.8.8"
  }
 },
 "nbformat": 4,
 "nbformat_minor": 5
}
