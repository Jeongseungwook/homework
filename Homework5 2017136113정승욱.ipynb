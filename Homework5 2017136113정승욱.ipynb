{
 "cells": [
  {
   "cell_type": "markdown",
   "id": "eed8d137",
   "metadata": {},
   "source": [
    "2017136113 정승욱"
   ]
  },
  {
   "cell_type": "markdown",
   "id": "ac8986cb",
   "metadata": {},
   "source": [
    "1."
   ]
  },
  {
   "cell_type": "markdown",
   "id": "e9c0a5aa",
   "metadata": {},
   "source": [
    "클래스는 사용자가 직접 객체를 선언하고 객체 멤버를 구성하여 사용하는데,  \n",
    "클래스의 용도와 목적에 맞게 상속을 통한 인스턴스화, 인터페이스 구현이 가능하다.  \n",
    "하지만, 모듈은 클래스와 다르게 상속을 통한 인스턴스화, 인터페이스 구현이 불가능하다.  \n",
    "즉 다른 객체에서 해당 모듈의 내부 멤버를 변경하여 사용하지 못한다. 하지만    \n",
    "모듈과 클래스 모듈은 용도에 맞도록 구성한 객체 멤버들을 캡슐화 시킨 후 가져다  \n",
    "사용한다는 점에서는 유사하다."
   ]
  },
  {
   "cell_type": "markdown",
   "id": "1fb4e080",
   "metadata": {},
   "source": [
    "2."
   ]
  },
  {
   "cell_type": "markdown",
   "id": "c8cc892e",
   "metadata": {},
   "source": [
    "다형성(Polymorphism) 하나의 코드가 여러 자료형으로 구현되어 실행되는 것."
   ]
  },
  {
   "cell_type": "code",
   "execution_count": 28,
   "id": "be541b25",
   "metadata": {},
   "outputs": [],
   "source": [
    "class Dog():\n",
    "    def bark(self):\n",
    "        print(\"강아지가 짖습니다.\")\n",
    "class Sichyu(Dog):\n",
    "    def bark(self):\n",
    "        print(\"시츄가 귀엽게 짖습니다.\")\n",
    "class Pomelanian(Dog):\n",
    "    def bark(self):\n",
    "        print(\"포메가 앙칼지게 짖습니다.\");"
   ]
  },
  {
   "cell_type": "markdown",
   "id": "99b471d3",
   "metadata": {},
   "source": [
    "3."
   ]
  },
  {
   "cell_type": "code",
   "execution_count": 29,
   "id": "e3c01a5d",
   "metadata": {},
   "outputs": [
    {
     "name": "stdout",
     "output_type": "stream",
     "text": [
      "[Count(step: 1)] 10\n",
      "[Count(step: 2)] 10\n",
      "[Count(step: 1)] 11\n",
      "[Count(step: 2)] 12\n",
      "[Count(step: 1)] 12\n",
      "[Count(step: 2)] 14\n",
      "[Count(step: 1)] 17\n",
      "[Count(step: 2)] 9\n",
      "True\n",
      "False\n",
      "False\n",
      "True\n",
      "True\n",
      "False\n"
     ]
    }
   ],
   "source": [
    "class Counter():\n",
    "    def __init__(self, count, step=1): # 첫번째 인수로 무조건 self, count는 정해지지않았고 step은 default가 1\n",
    "        self.count = count\n",
    "        self.step = step\n",
    "    \n",
    "    def __str__(self):\n",
    "        str1 = '[Count(step: %d)] %d' % (self.step, self.count) # 포매팅형식으로 출력\n",
    "        return str1\n",
    "    \n",
    "    def incr(self): # step의 값만큼 count를 증가시켜준다.\n",
    "        self.count += self.step\n",
    "    \n",
    "    def __call__(self): # 인스턴스를 직접호출하기 위한 __call__메소드이용 내부적으로 incr 메소드를 호출해야하므로 내부를 똑같이 구현한다.\n",
    "        self.count += self.step\n",
    "    \n",
    "    def __add__(self, res): # +\n",
    "        self.count += res\n",
    "        return self\n",
    "    \n",
    "    def __sub__(self, res): # -\n",
    "        self.count -= res\n",
    "        return self\n",
    "    \n",
    "    def __gt__(self, res): # 큼\n",
    "        return self.count > res\n",
    "    \n",
    "    def __ge__(self, res): # 크거나 같음\n",
    "        return self.count >= res\n",
    "    \n",
    "    def __lt__(self, res): # 작음\n",
    "        return self.count < res\n",
    "    \n",
    "    def __le__(self, res): # 작거나 같음\n",
    "        return self.count <= res\n",
    "    \n",
    "    def __eq__(self, res): # 같음\n",
    "        return self.count == res\n",
    "    \n",
    "    def __ne__(self, res): # 같지않음\n",
    "        return self.count != res\n",
    "\n",
    "\n",
    "c = Counter(10)\n",
    "d = Counter(10, 2)\n",
    "print(c)\n",
    "print(d)\n",
    "c.incr()\n",
    "d.incr()\n",
    "print(c)\n",
    "print(d)\n",
    "c()\n",
    "d()\n",
    "print(c)\n",
    "print(d)\n",
    "c = c + 5\n",
    "d = d - 5\n",
    "print(c)\n",
    "print(d)\n",
    "print(c>10)\n",
    "print(d>10)\n",
    "print(c<10)\n",
    "print(d<10)\n",
    "print(c==17)\n",
    "print(d!=9)"
   ]
  },
  {
   "cell_type": "markdown",
   "id": "cea4c074",
   "metadata": {},
   "source": [
    "4."
   ]
  },
  {
   "cell_type": "code",
   "execution_count": 30,
   "id": "f03bd479",
   "metadata": {},
   "outputs": [
    {
     "name": "stdout",
     "output_type": "stream",
     "text": [
      "MySet: {1 ,2 ,3}\n",
      "MySet: {2 ,3 ,4 ,5 ,6 ,7 ,8 ,9}\n"
     ]
    }
   ],
   "source": [
    "class MySet(list):\n",
    "    def __init__(self, l): # 인스턴스 변수를 초기화해주는 생성자 메소드\n",
    "        for e in l:\n",
    "            self.append(e) # 추가해줌.\n",
    "        MySet.eliminate_duplicate(self) # 정적메소드 호출\n",
    "    \n",
    "    def __str__(self): # 출력 포매팅 메소드\n",
    "        result = \"MySet: {\"\n",
    "        for e in self:\n",
    "            result = result + str(e) + \" ,\"\n",
    "        result = result[0:len(result)-2] + \"}\"\n",
    "        return result\n",
    "\n",
    "    @staticmethod    \n",
    "    def eliminate_duplicate(l): # 정적메소드로 일반메소드와 비슷하게 사용가능하다. 중복된 값을 제거하는 메소드\n",
    "        s = [] # 리스트 s를 초기화한다.\n",
    "        for e in l: \n",
    "            if e not in s:\n",
    "                s.append(e)\n",
    "        l[:] = []\n",
    "        for e in s:\n",
    "            l.append(e)\n",
    "\n",
    "    \n",
    "if __name__ == \"__main__\":\n",
    "    s = MySet([1, 2, 2, 3])\n",
    "    print(s)\n",
    "    t = MySet([2, 3, 4, 5, 6, 7, 8, 8, 8, 8, 8, 9])\n",
    "    print(t)"
   ]
  },
  {
   "cell_type": "markdown",
   "id": "eae11560",
   "metadata": {},
   "source": [
    "5."
   ]
  },
  {
   "cell_type": "code",
   "execution_count": 2,
   "id": "73336f9d",
   "metadata": {},
   "outputs": [
    {
     "name": "stdout",
     "output_type": "stream",
     "text": [
      "[1, 2, 3, 4, 5, 6, 7, 8, 9]\n",
      "[2, 3]\n",
      "[1, 2]\n"
     ]
    }
   ],
   "source": [
    "class MySet(list):\n",
    "    def __init__(self, l):\n",
    "        for e in l:\n",
    "            self.append(e)\n",
    "        MySet.eliminate_duplicate(self)\n",
    "    \n",
    "    def __str__(self):\n",
    "        result = \"MySet: {\"\n",
    "        for e in self:\n",
    "            result = result + str(e) + \" ,\"\n",
    "        result = result[0:len(result)-2] + \"}\"\n",
    "        return result\n",
    "    \n",
    "    def __or__(self, another): # 합집합\n",
    "        sum = self + another # 두원소를 합쳐준다\n",
    "        MySet.eliminate_duplicate(sum) # 중복제거\n",
    "        return sum\n",
    "    \n",
    "    def __and__(self, another): # 교집합\n",
    "        ins = [] # 새로운리스트를 정의하고\n",
    "        for i in self: # self에 있는 원소들 중\n",
    "            if i in another: # another에도 있다면 \n",
    "                ins.append(i) # 추가한다.\n",
    "        MySet.eliminate_duplicate(ins) # 중복제거\n",
    "        return ins\n",
    "    \n",
    "    def __sub__(self, another): # 차집합\n",
    "        ins = [] # 새로운리스트를 정의하고\n",
    "        for i in self: # self에 있는 원소들 중\n",
    "            if i not in another: # another에는 없다면\n",
    "                ins.append(i) # 추가한다.\n",
    "        MySet.eliminate_duplicate(ins) # 중복제거\n",
    "        return ins\n",
    "    \n",
    "    @staticmethod    \n",
    "    def eliminate_duplicate(l):\n",
    "        s = []\n",
    "        for e in l:\n",
    "            if e not in s:\n",
    "                s.append(e)\n",
    "        l[:] = []\n",
    "        for e in s:\n",
    "            l.append(e)\n",
    "\n",
    "    \n",
    "if __name__ == \"__main__\":\n",
    "    s = MySet([1, 2, 2, 3])\n",
    "    t = MySet([2, 3, 4, 5, 6, 7, 8, 8, 8, 8, 8, 9])\n",
    "    u = s|t\n",
    "    print(u)\n",
    "    u = s&t\n",
    "    print(u)\n",
    "    s = MySet([1, 2, 3])\n",
    "    t = MySet([3, 4, 5])\n",
    "    u = s - t\n",
    "    print(u)"
   ]
  },
  {
   "cell_type": "markdown",
   "id": "6204f180",
   "metadata": {},
   "source": [
    "6."
   ]
  },
  {
   "cell_type": "markdown",
   "id": "3e5bf4ba",
   "metadata": {},
   "source": [
    "Myset 클래스의 부모클래스가 list 클래스이므로 list 클래스의 내장함수들을 사용할 수 있다."
   ]
  },
  {
   "cell_type": "markdown",
   "id": "640f709d",
   "metadata": {},
   "source": [
    "incremental 문제를 제외한 문제들은 수업시간에 배운내용을 바탕으로 쉽게 해결할 수 있었다."
   ]
  }
 ],
 "metadata": {
  "kernelspec": {
   "display_name": "Python 3",
   "language": "python",
   "name": "python3"
  },
  "language_info": {
   "codemirror_mode": {
    "name": "ipython",
    "version": 3
   },
   "file_extension": ".py",
   "mimetype": "text/x-python",
   "name": "python",
   "nbconvert_exporter": "python",
   "pygments_lexer": "ipython3",
   "version": "3.8.8"
  }
 },
 "nbformat": 4,
 "nbformat_minor": 5
}
