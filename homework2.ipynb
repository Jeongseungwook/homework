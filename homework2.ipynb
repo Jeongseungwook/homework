{
 "cells": [
  {
   "cell_type": "markdown",
   "id": "74d4a90e",
   "metadata": {
    "scrolled": true
   },
   "source": [
    "1-1"
   ]
  },
  {
   "cell_type": "code",
   "execution_count": 5,
   "id": "5f6c4853",
   "metadata": {},
   "outputs": [
    {
     "data": {
      "text/plain": [
       "4"
      ]
     },
     "execution_count": 5,
     "metadata": {},
     "output_type": "execute_result"
    }
   ],
   "source": [
    "1 and 2 and 3 and 4"
   ]
  },
  {
   "cell_type": "markdown",
   "id": "4e2ff887",
   "metadata": {},
   "source": [
    "0이 아니면 참이므로 and 연산에서 둘 다 참이면 오른쪽이 결과값이 된다.  \n",
    "1 and 2 and 3 and 4 -> 2 and 3 and 4 -> 3 and 4 -> 4 "
   ]
  },
  {
   "cell_type": "markdown",
   "id": "341e25f8",
   "metadata": {},
   "source": [
    "1-2"
   ]
  },
  {
   "cell_type": "code",
   "execution_count": 6,
   "id": "2fac7079",
   "metadata": {},
   "outputs": [
    {
     "data": {
      "text/plain": [
       "1"
      ]
     },
     "execution_count": 6,
     "metadata": {},
     "output_type": "execute_result"
    }
   ],
   "source": [
    "1 or 2 or 3 or 4"
   ]
  },
  {
   "cell_type": "markdown",
   "id": "bb9a276a",
   "metadata": {},
   "source": [
    "or 연산에서 왼쪽이 참이면 오른쪽은 거짓이든 참이든 연산 결과가 참이므로  \n",
    "왼쪽이 결과값이 됨. 1 or 3 or 4 -> 1 or 4 -> 1"
   ]
  },
  {
   "cell_type": "markdown",
   "id": "3db082de",
   "metadata": {},
   "source": [
    "1-3"
   ]
  },
  {
   "cell_type": "code",
   "execution_count": 7,
   "id": "5d57afe6",
   "metadata": {},
   "outputs": [
    {
     "data": {
      "text/plain": [
       "2"
      ]
     },
     "execution_count": 7,
     "metadata": {},
     "output_type": "execute_result"
    }
   ],
   "source": [
    "1 and 2 or 3 and 4"
   ]
  },
  {
   "cell_type": "markdown",
   "id": "b2918155",
   "metadata": {},
   "source": [
    "and 연산자가 or 연산자보다 우선순위, 1 and 2의 연산결과 2, 3 and 4의 결과 4  \n",
    "따라서 2 or 4의 결과값은 2이다."
   ]
  },
  {
   "cell_type": "markdown",
   "id": "06161635",
   "metadata": {},
   "source": [
    "1-4."
   ]
  },
  {
   "cell_type": "code",
   "execution_count": 8,
   "id": "1417c407",
   "metadata": {},
   "outputs": [
    {
     "data": {
      "text/plain": [
       "2"
      ]
     },
     "execution_count": 8,
     "metadata": {},
     "output_type": "execute_result"
    }
   ],
   "source": [
    "(1 and 2) or (3 and 4)"
   ]
  },
  {
   "cell_type": "markdown",
   "id": "4e3513eb",
   "metadata": {},
   "source": [
    "1 and 2의 연산결과 2, 3 and 4의 결과 4 따라서 2 or 4의 결과는 2이다."
   ]
  },
  {
   "cell_type": "markdown",
   "id": "54da5b4a",
   "metadata": {},
   "source": [
    "1-5"
   ]
  },
  {
   "cell_type": "code",
   "execution_count": 9,
   "id": "9f1249b3",
   "metadata": {},
   "outputs": [
    {
     "data": {
      "text/plain": [
       "1"
      ]
     },
     "execution_count": 9,
     "metadata": {},
     "output_type": "execute_result"
    }
   ],
   "source": [
    "1 or 2 and 3 or 4"
   ]
  },
  {
   "cell_type": "markdown",
   "id": "e0c1f705",
   "metadata": {},
   "source": [
    "2 and 3부터 연산하면 3, 1 or 3 or 4 이므로 결과는 1이된다."
   ]
  },
  {
   "cell_type": "markdown",
   "id": "4a457942",
   "metadata": {},
   "source": [
    "1-6."
   ]
  },
  {
   "cell_type": "code",
   "execution_count": 10,
   "id": "da94fd91",
   "metadata": {},
   "outputs": [
    {
     "data": {
      "text/plain": [
       "3"
      ]
     },
     "execution_count": 10,
     "metadata": {},
     "output_type": "execute_result"
    }
   ],
   "source": [
    "(1 or 2) and (3 or 4)"
   ]
  },
  {
   "cell_type": "markdown",
   "id": "5729845b",
   "metadata": {},
   "source": [
    "1 and 3이므로 결과값은 3이다."
   ]
  },
  {
   "cell_type": "markdown",
   "id": "bb5d94aa",
   "metadata": {},
   "source": [
    "2."
   ]
  },
  {
   "cell_type": "code",
   "execution_count": 11,
   "id": "dc1704e8",
   "metadata": {},
   "outputs": [
    {
     "name": "stdout",
     "output_type": "stream",
     "text": [
      "['/usr/local/bin', 'python']\n",
      "['/home/chulsoo', 'test.txt']\n"
     ]
    }
   ],
   "source": [
    "def div_path(s):\n",
    "    \n",
    "    a = s.split('/')\n",
    "    file = a[-1]\n",
    "    b = a[:-1]\n",
    "    path = '/'.join(b)\n",
    "    bin_list = []\n",
    "    bin_list.append(path)\n",
    "    bin_list.append(file)\n",
    "    \n",
    "    return bin_list\n",
    "\n",
    "print(div_path('/usr/local/bin/python'))\n",
    "print(div_path('/home/chulsoo/test.txt'))"
   ]
  },
  {
   "cell_type": "markdown",
   "id": "269a7f31",
   "metadata": {},
   "source": [
    "split으로 문자열 s를 '/' 기준으로 나누게 되면 a는 문자열을 인자로 갖는 리스트가 된다.  \n",
    "파일(f)는 경로에서 /을 기준으로 맨 뒤 원소가 되므로 리스트 a에서 -1번째,    \n",
    "경로(p)는 파일(f) 전 까지이므로 -1번째까지 간다음 '/'.join을 사용해서 리스트 원소들을 '/'로 이어줌"
   ]
  },
  {
   "cell_type": "markdown",
   "id": "210d70bb",
   "metadata": {},
   "source": [
    "3."
   ]
  },
  {
   "cell_type": "code",
   "execution_count": 12,
   "id": "98740fb3",
   "metadata": {},
   "outputs": [
    {
     "name": "stdout",
     "output_type": "stream",
     "text": [
      "[1, 2, 3, 4]\n",
      "[-10, -5, -1, 0, 9, 100]\n",
      "[0, 1, 2]\n"
     ]
    }
   ],
   "source": [
    "def list_union(a_list, b_list):\n",
    "    \n",
    "    c_list = a_list\n",
    "    for i in b_list:\n",
    "        if i not in c_list:\n",
    "            c_list.append(i)\n",
    "    \n",
    "    c_list.sort()\n",
    "    \n",
    "    return c_list\n",
    "\n",
    "print(list_union([1,2,3],[1,2,4]))\n",
    "print(list_union([-10,-5,-1,0,9,100], [100,9,0,9]))\n",
    "print(list_union([0,1,2],[0,1,2]))"
   ]
  },
  {
   "cell_type": "markdown",
   "id": "2146954e",
   "metadata": {},
   "source": [
    "함수 내 a_list와 같은 원소를 갖는 새로운 c_list를 만든다. b_list에는 있지만  \n",
    "c_list에는 없는 새로원 원소들을 c_list에 추가한다. 그리고 정렬(sort)을 한 후  \n",
    "c_list를 반환한다."
   ]
  },
  {
   "cell_type": "markdown",
   "id": "0a74569d",
   "metadata": {},
   "source": [
    "4-1."
   ]
  },
  {
   "cell_type": "code",
   "execution_count": 13,
   "id": "d30ee2bc",
   "metadata": {},
   "outputs": [
    {
     "name": "stdout",
     "output_type": "stream",
     "text": [
      "[1, 2]\n",
      "[0, 1, 2]\n"
     ]
    }
   ],
   "source": [
    "def list_intersection(a_list, b_list):\n",
    "    \n",
    "    c_list = []\n",
    "    \n",
    "    for i in a_list:\n",
    "        if i in b_list:\n",
    "            c_list.append(i)\n",
    "            \n",
    "    c_list.sort()\n",
    "    \n",
    "    return c_list\n",
    "\n",
    "print(list_intersection([1,2,3],[1,2,4]))\n",
    "print(list_intersection([2,0,1],[0,1,2]))"
   ]
  },
  {
   "cell_type": "markdown",
   "id": "92df9076",
   "metadata": {},
   "source": [
    "교집합도 위와 똑같은 방식을 이용한다. 새로운 c_list를 만든 후 a_list에 있는 원소들 중  \n",
    "b_list에도 있는 원소들을 c_list에 추가(append), 정렬(sort)한 후 반환한다."
   ]
  },
  {
   "cell_type": "markdown",
   "id": "316c751e",
   "metadata": {},
   "source": [
    "4-2."
   ]
  },
  {
   "cell_type": "code",
   "execution_count": 14,
   "id": "52459727",
   "metadata": {},
   "outputs": [
    {
     "name": "stdout",
     "output_type": "stream",
     "text": [
      "[3]\n",
      "[1, 2, 5]\n"
     ]
    }
   ],
   "source": [
    "def list_difference(a_list, b_list):\n",
    "    \n",
    "    c_list = []\n",
    "    \n",
    "    for i in a_list:\n",
    "        if i not in b_list:\n",
    "            c_list.append(i)\n",
    "            \n",
    "    c_list.sort()\n",
    "    \n",
    "    return c_list\n",
    "\n",
    "print(list_difference([1,2,3],[1,2,4]))\n",
    "print(list_difference([3,4,1,5,2],[4,3]))\n",
    "    "
   ]
  },
  {
   "cell_type": "markdown",
   "id": "76d01d1b",
   "metadata": {},
   "source": [
    "차집합도 똑같은 방식 이용. a_list에는 있고 b_list에는 없는 원소들을  \n",
    "c_list에 추가, 정렬한 후 반환한다."
   ]
  },
  {
   "cell_type": "markdown",
   "id": "7ab88981",
   "metadata": {},
   "source": [
    "5."
   ]
  },
  {
   "cell_type": "code",
   "execution_count": 15,
   "id": "5c41ab4a",
   "metadata": {
    "scrolled": true
   },
   "outputs": [
    {
     "name": "stdout",
     "output_type": "stream",
     "text": [
      "2이상 10 이하 정수 중 소수 리스트 : {2, 3, 5, 7}\n",
      "2이상 100 이하 정수 중 소수 리스트 : {2, 3, 5, 7, 11, 13, 17, 19, 23, 29, 31, 37, 41, 43, 47, 53, 59, 61, 67, 71, 73, 79, 83, 89, 97}\n"
     ]
    }
   ],
   "source": [
    "def print_primenumber(a, b):\n",
    "\n",
    "    c_list = []\n",
    "    d_list = []\n",
    "\n",
    "    \n",
    "    for i in range(a, b+1):\n",
    "        for j in range(1, i+1):\n",
    "            if i % j == 0:\n",
    "                c_list.append(i)\n",
    "    \n",
    "    for k in c_list:\n",
    "        if c_list.count(k) == 2:\n",
    "            d_list.append(k)\n",
    "    \n",
    "    print(\"{}이상 {} 이하 정수 중 소수 리스트 : {}\".format(a,b,set(d_list)))\n",
    "    \n",
    "print_primenumber(2,10)\n",
    "print_primenumber(2,100)            \n",
    "\n",
    "    "
   ]
  },
  {
   "cell_type": "markdown",
   "id": "f43fb6c6",
   "metadata": {},
   "source": [
    "a에서 b까지 사이에 있는 수를 모두 1에서 자기 자신까지 하나씩 나눠본다.  \n",
    "소수는 1과 자기 자신만을 약수로 가지므로 그 c_list에 추가되는 숫자의  \n",
    "개수는 2이어야한다. 같은 원소가 2개인 수들을 d_list에 추가(append)하게  \n",
    "되면 그 수들은 모두 소수이다."
   ]
  },
  {
   "cell_type": "markdown",
   "id": "e33143ec",
   "metadata": {},
   "source": [
    "6-1."
   ]
  },
  {
   "cell_type": "code",
   "execution_count": null,
   "id": "23efe8fa",
   "metadata": {},
   "outputs": [],
   "source": [
    "\n",
    "\n",
    "import requests\n",
    "import re\n",
    "\n",
    "\n",
    "req1 = requests.get('https://dict.naver.com/')\n",
    "source = req1.text\n",
    "\n",
    "#print source\n",
    "\n",
    "body = re.search('<body.*</body>', source, re.I|re.S)\n",
    "body = body.group()\n",
    "body = re.sub('<script.*?>.*?</script>', '', body, 0, re.I|re.S)\n",
    "\n",
    "req11 = re.sub('<.+?>', '', body, 0, re.I|re.S)\n",
    "\n",
    "req12 = re.sub('&nbsp; |\\t|\\r|\\n', '', req11)\n",
    "\n",
    "req13 = (req12.split(' '))\n",
    "req14 = ' '.join(req13).split()\n",
    "\n",
    "    \n",
    "print(req14)\n",
    "print ('req1.text = ', len(req14))\n"
   ]
  },
  {
   "cell_type": "markdown",
   "id": "e94931ac",
   "metadata": {},
   "source": [
    "html의 순수 텍스트열을 알기 위해서는 <body>와 </body>사이의 내용을 추려내기 위해 re.search()메소드를 이용한다.  \n",
    "그리고 <script>와 </script>사이의 내용, 태그 및 주석, 줄바꿈등을 모두  제거해주고 그다음 띄어쓰기 단위로 문자열을 잘라준 후 다시 붙여주게 되면  \n",
    "띄어쓰기를 제외한 공백들은 제거되고 문자열도 띄어쓰기 단위로 나뉘어지게됩니다.  그다음 모든 문자열을 출력하고 원소 갯수(len)을 세줍니다."
   ]
  },
  {
   "cell_type": "markdown",
   "id": "6b16e6e2",
   "metadata": {},
   "source": [
    "6-2."
   ]
  },
  {
   "cell_type": "code",
   "execution_count": null,
   "id": "5507f455",
   "metadata": {},
   "outputs": [],
   "source": [
    "import requests\n",
    "import re\n",
    "\n",
    "\n",
    "req1 = requests.get('https://naver.com/')\n",
    "source = req1.text\n",
    "\n",
    "#print source\n",
    "\n",
    "body = re.search('<body.*</body>', source, re.I|re.S)\n",
    "\n",
    "body = body.group()\n",
    "body = re.sub('<script.*?>.*?</script>', '', body, 0, re.I|re.S)\n",
    "\n",
    "req11 = re.sub('<.+?>', '', body, 0, re.I|re.S)\n",
    "\n",
    "req12 = re.sub('&nbsp; |\\t|\\r|\\n', '', req11)\n",
    "\n",
    "req13 = (req12.split(' '))\n",
    "req14 = ' '.join(req13).split()\n",
    "\n",
    "    \n",
    "print(req14)\n",
    "print ('req1.text = ', len(req14))\n"
   ]
  },
  {
   "cell_type": "markdown",
   "id": "d0173997",
   "metadata": {},
   "source": [
    "위와 같은과정인 다른 웹페이지 예시입니다."
   ]
  },
  {
   "cell_type": "markdown",
   "id": "fd48aaba",
   "metadata": {},
   "source": [
    "소감 : 5번문제까지는 이때까지 학습한 내용을 바탕으로 오랜 고민없이 해결할 수 있었지만, 6번 문제는 너무 어렵게 느껴졌습니다.  \n",
    "       6번문제에만 많은 시간을 투자했음에도 깔끔하게 해결하지 못했습니다. 시간이 없어 제출하게 되었지만 html 태그에 대해  \n",
    "       공부 한 후 다시 시도해보고싶습니다."
   ]
  }
 ],
 "metadata": {
  "kernelspec": {
   "display_name": "Python 3",
   "language": "python",
   "name": "python3"
  },
  "language_info": {
   "codemirror_mode": {
    "name": "ipython",
    "version": 3
   },
   "file_extension": ".py",
   "mimetype": "text/x-python",
   "name": "python",
   "nbconvert_exporter": "python",
   "pygments_lexer": "ipython3",
   "version": "3.8.8"
  }
 },
 "nbformat": 4,
 "nbformat_minor": 5
}
